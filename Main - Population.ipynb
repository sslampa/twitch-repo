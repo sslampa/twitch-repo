{
 "metadata": {
  "name": "",
  "signature": "sha256:3d4fe76339ccc3b03b363f33bdda6a680737efbae9598d04aca9920b9ba61054"
 },
 "nbformat": 3,
 "nbformat_minor": 0,
 "worksheets": [
  {
   "cells": [
    {
     "cell_type": "heading",
     "level": 1,
     "metadata": {},
     "source": [
      "Cumulative Population Data"
     ]
    },
    {
     "cell_type": "code",
     "collapsed": false,
     "input": [
      "cd C:\\tmp"
     ],
     "language": "python",
     "metadata": {},
     "outputs": [
      {
       "output_type": "stream",
       "stream": "stdout",
       "text": [
        "C:\\tmp\n"
       ]
      }
     ],
     "prompt_number": 1
    },
    {
     "cell_type": "code",
     "collapsed": false,
     "input": [
      "import pandas as pd\n",
      "import datetime\n",
      "import time\n",
      "import numpy as np\n",
      "import matplotlib as mpl\n",
      "import matplotlib.pyplot as plt\n",
      "import seaborn as sns\n",
      "import create_list\n",
      "%matplotlib inline"
     ],
     "language": "python",
     "metadata": {},
     "outputs": [],
     "prompt_number": 2
    },
    {
     "cell_type": "code",
     "collapsed": false,
     "input": [
      "# Reads the .csv data\n",
      "df = pd.read_csv(\"june_final.csv\", header=None, names=['id', 'name', 'followers', 'current_viewers', 'date_time'])"
     ],
     "language": "python",
     "metadata": {},
     "outputs": [],
     "prompt_number": 3
    },
    {
     "cell_type": "code",
     "collapsed": false,
     "input": [
      "# Extracts individual pieces to be used later for the new datetime\n",
      "df['years'] = pd.DatetimeIndex(df['date_time']).year\n",
      "df['months'] = pd.DatetimeIndex(df['date_time']).month\n",
      "df['days'] = pd.DatetimeIndex(df['date_time']).day\n",
      "df['hours'] = pd.DatetimeIndex(df['date_time']).hour\n",
      "df['minutes'] = pd.DatetimeIndex(df['date_time']).minute"
     ],
     "language": "python",
     "metadata": {},
     "outputs": [],
     "prompt_number": 4
    },
    {
     "cell_type": "heading",
     "level": 2,
     "metadata": {},
     "source": [
      "1. Check For Consistent Data Distribution"
     ]
    },
    {
     "cell_type": "markdown",
     "metadata": {},
     "source": [
      "Checking to see that there is a consistent enough distribution between every hour. Some data was lost due to twitch/my server failures. "
     ]
    },
    {
     "cell_type": "code",
     "collapsed": false,
     "input": [
      "df.hist(\"hours\", bins=24, range=(0,23))"
     ],
     "language": "python",
     "metadata": {},
     "outputs": [
      {
       "metadata": {},
       "output_type": "pyout",
       "prompt_number": 5,
       "text": [
        "array([[<matplotlib.axes._subplots.AxesSubplot object at 0x08572230>]], dtype=object)"
       ]
      },
      {
       "metadata": {},
       "output_type": "display_data",
       "png": "[encoded data removed]",
       "text": [
        "<matplotlib.figure.Figure at 0x2d58270>"
       ]
      }
     ],
     "prompt_number": 5
    },
    {
     "cell_type": "heading",
     "level": 2,
     "metadata": {},
     "source": [
      "2. Difference Between All Data And Non-Tournament Data Streaming Times"
     ]
    },
    {
     "cell_type": "markdown",
     "metadata": {},
     "source": [
      "Tournament streams generally lead to higher viewer counts, leading to a higher average and larger range. This only happens at certain times as tournaments are generally streamed at certain times. In the below box plots, we can see that around 9 AM PDT is where there is a large difference in average. The differences become much smaller at around 8 PM PDT."
     ]
    },
    {
     "cell_type": "heading",
     "level": 3,
     "metadata": {},
     "source": [
      "Code To Remove Tournament Data"
     ]
    },
    {
     "cell_type": "code",
     "collapsed": false,
     "input": [
      "# Remove all the tournament data to compare with previous boxplot\n",
      "tournament_list = ['dreamhackhs', 'viagamehs', 'esl_hearthstone', 'tempo_storm', 'wca_america', 'nvidia', 'nvidiafrance',\n",
      "                   'starladder_hs_ru', 'starladder_hs_eu', 'vulcunhs', 'viagamehs_ru', 'onenationofgamers', 'stormstudio_hs_ru', \n",
      "                   'hkesportstv', 'hearthstonefr', 'readyuptv', 'pvplive']\n",
      "\n",
      "# ~ -> not, isin -> in used for lists\n",
      "no_tourn_df = df[~df['name'].isin(tournament_list)]"
     ],
     "language": "python",
     "metadata": {},
     "outputs": [],
     "prompt_number": 6
    },
    {
     "cell_type": "heading",
     "level": 3,
     "metadata": {},
     "source": [
      "Box Plot With Tournament Data"
     ]
    },
    {
     "cell_type": "code",
     "collapsed": false,
     "input": [
      "ax = sns.boxplot(x='hours', y='current_viewers', data=df, fliersize=0, order=np.arange(0,24))\n",
      "ax.set(ylim=(-100, 4000))"
     ],
     "language": "python",
     "metadata": {},
     "outputs": [
      {
       "metadata": {},
       "output_type": "pyout",
       "prompt_number": 7,
       "text": [
        "[(-100, 4000)]"
       ]
      },
      {
       "metadata": {},
       "output_type": "display_data",
       "png": "[encoded data removed]",
       "text": [
        "<matplotlib.figure.Figure at 0x84d5550>"
       ]
      }
     ],
     "prompt_number": 7
    },
    {
     "cell_type": "heading",
     "level": 3,
     "metadata": {},
     "source": [
      "Box Plot Without Tournament Data"
     ]
    },
    {
     "cell_type": "code",
     "collapsed": false,
     "input": [
      "bx = sns.boxplot(x='hours', y='current_viewers', data=no_tourn_df, fliersize=0, order=np.arange(0,24))\n",
      "bx.set(ylim=(-100, 4000))"
     ],
     "language": "python",
     "metadata": {},
     "outputs": [
      {
       "metadata": {},
       "output_type": "pyout",
       "prompt_number": 8,
       "text": [
        "[(-100, 4000)]"
       ]
      },
      {
       "metadata": {},
       "output_type": "display_data",
       "png": "[encoded data removed]",
       "text": [
        "<matplotlib.figure.Figure at 0x84df430>"
       ]
      }
     ],
     "prompt_number": 8
    },
    {
     "cell_type": "heading",
     "level": 3,
     "metadata": {},
     "source": [
      "Code To Make Table"
     ]
    },
    {
     "cell_type": "code",
     "collapsed": false,
     "input": [
      "# This shows the mean of the dataset including tournaments\n",
      "mean_streamer_tourn = df.groupby(by=['hours'])['current_viewers'].agg(np.mean)\n",
      "mean_streamer_tourn.sort(ascending=False, inplace=True)\n",
      "mean_streamer_tourn = pd.DataFrame(mean_streamer_tourn).reset_index()"
     ],
     "language": "python",
     "metadata": {},
     "outputs": [],
     "prompt_number": 9
    },
    {
     "cell_type": "code",
     "collapsed": false,
     "input": [
      "# Shows the mean of the dataset without tournaments\n",
      "mean_streamer_none_hr = no_tourn_df.groupby(by=['hours'])['current_viewers'].agg(np.mean)\n",
      "mean_streamer_none_hr.sort(ascending=False, inplace=True)\n",
      "mean_streamer_none_hr = pd.DataFrame(mean_streamer_none_hr).reset_index()"
     ],
     "language": "python",
     "metadata": {},
     "outputs": [],
     "prompt_number": 10
    },
    {
     "cell_type": "code",
     "collapsed": false,
     "input": [
      "# Table showing the mean of the dataset with the tournament channels vs without\n",
      "streamer_mean = pd.merge(mean_streamer_tourn, mean_streamer_none_hr, on='hours')\n",
      "streamer_mean.sort(columns='hours', inplace=True)\n",
      "streamer_mean.columns = ('hours', 'withTournament', 'withoutTournament')"
     ],
     "language": "python",
     "metadata": {},
     "outputs": [],
     "prompt_number": 11
    },
    {
     "cell_type": "heading",
     "level": 3,
     "metadata": {},
     "source": [
      "Table Comparing Average Viewers Between Tournament And No Tournament Data"
     ]
    },
    {
     "cell_type": "code",
     "collapsed": false,
     "input": [
      "streamer_mean.reset_index(drop=True)"
     ],
     "language": "python",
     "metadata": {},
     "outputs": [
      {
       "html": [
        "<div style=\"max-height:1000px;max-width:1500px;overflow:auto;\">\n",
        "<table border=\"1\" class=\"dataframe\">\n",
        "  <thead>\n",
        "    <tr style=\"text-align: right;\">\n",
        "      <th></th>\n",
        "      <th>hours</th>\n",
        "      <th>withTournament</th>\n",
        "      <th>withoutTournament</th>\n",
        "    </tr>\n",
        "  </thead>\n",
        "  <tbody>\n",
        "    <tr>\n",
        "      <th>0</th>\n",
        "      <td>0</td>\n",
        "      <td>1195.915636</td>\n",
        "      <td>1155.358417</td>\n",
        "    </tr>\n",
        "    <tr>\n",
        "      <th>1</th>\n",
        "      <td>1</td>\n",
        "      <td>1128.483657</td>\n",
        "      <td>1070.227273</td>\n",
        "    </tr>\n",
        "    <tr>\n",
        "      <th>2</th>\n",
        "      <td>2</td>\n",
        "      <td>979.806627</td>\n",
        "      <td>847.023154</td>\n",
        "    </tr>\n",
        "    <tr>\n",
        "      <th>3</th>\n",
        "      <td>3</td>\n",
        "      <td>1143.189767</td>\n",
        "      <td>949.556029</td>\n",
        "    </tr>\n",
        "    <tr>\n",
        "      <th>4</th>\n",
        "      <td>4</td>\n",
        "      <td>1360.642857</td>\n",
        "      <td>1141.536217</td>\n",
        "    </tr>\n",
        "    <tr>\n",
        "      <th>5</th>\n",
        "      <td>5</td>\n",
        "      <td>1468.886708</td>\n",
        "      <td>1228.092558</td>\n",
        "    </tr>\n",
        "    <tr>\n",
        "      <th>6</th>\n",
        "      <td>6</td>\n",
        "      <td>1704.873095</td>\n",
        "      <td>1499.790976</td>\n",
        "    </tr>\n",
        "    <tr>\n",
        "      <th>7</th>\n",
        "      <td>7</td>\n",
        "      <td>1945.114182</td>\n",
        "      <td>1753.298268</td>\n",
        "    </tr>\n",
        "    <tr>\n",
        "      <th>8</th>\n",
        "      <td>8</td>\n",
        "      <td>2122.034217</td>\n",
        "      <td>1908.880928</td>\n",
        "    </tr>\n",
        "    <tr>\n",
        "      <th>9</th>\n",
        "      <td>9</td>\n",
        "      <td>2148.573836</td>\n",
        "      <td>1933.758179</td>\n",
        "    </tr>\n",
        "    <tr>\n",
        "      <th>10</th>\n",
        "      <td>10</td>\n",
        "      <td>2146.965605</td>\n",
        "      <td>1888.814444</td>\n",
        "    </tr>\n",
        "    <tr>\n",
        "      <th>11</th>\n",
        "      <td>11</td>\n",
        "      <td>2207.114783</td>\n",
        "      <td>1765.159171</td>\n",
        "    </tr>\n",
        "    <tr>\n",
        "      <th>12</th>\n",
        "      <td>12</td>\n",
        "      <td>2267.345432</td>\n",
        "      <td>1698.520000</td>\n",
        "    </tr>\n",
        "    <tr>\n",
        "      <th>13</th>\n",
        "      <td>13</td>\n",
        "      <td>2250.895422</td>\n",
        "      <td>1818.843523</td>\n",
        "    </tr>\n",
        "    <tr>\n",
        "      <th>14</th>\n",
        "      <td>14</td>\n",
        "      <td>2101.728727</td>\n",
        "      <td>1696.374579</td>\n",
        "    </tr>\n",
        "    <tr>\n",
        "      <th>15</th>\n",
        "      <td>15</td>\n",
        "      <td>1921.576000</td>\n",
        "      <td>1530.884293</td>\n",
        "    </tr>\n",
        "    <tr>\n",
        "      <th>16</th>\n",
        "      <td>16</td>\n",
        "      <td>1773.012739</td>\n",
        "      <td>1387.255054</td>\n",
        "    </tr>\n",
        "    <tr>\n",
        "      <th>17</th>\n",
        "      <td>17</td>\n",
        "      <td>1557.514217</td>\n",
        "      <td>1261.043410</td>\n",
        "    </tr>\n",
        "    <tr>\n",
        "      <th>18</th>\n",
        "      <td>18</td>\n",
        "      <td>1243.901905</td>\n",
        "      <td>966.188104</td>\n",
        "    </tr>\n",
        "    <tr>\n",
        "      <th>19</th>\n",
        "      <td>19</td>\n",
        "      <td>1142.715636</td>\n",
        "      <td>962.717302</td>\n",
        "    </tr>\n",
        "    <tr>\n",
        "      <th>20</th>\n",
        "      <td>20</td>\n",
        "      <td>1133.508500</td>\n",
        "      <td>1018.842789</td>\n",
        "    </tr>\n",
        "    <tr>\n",
        "      <th>21</th>\n",
        "      <td>21</td>\n",
        "      <td>1124.405350</td>\n",
        "      <td>1080.739201</td>\n",
        "    </tr>\n",
        "    <tr>\n",
        "      <th>22</th>\n",
        "      <td>22</td>\n",
        "      <td>1130.197073</td>\n",
        "      <td>1105.253866</td>\n",
        "    </tr>\n",
        "    <tr>\n",
        "      <th>23</th>\n",
        "      <td>23</td>\n",
        "      <td>1156.423210</td>\n",
        "      <td>1122.033943</td>\n",
        "    </tr>\n",
        "  </tbody>\n",
        "</table>\n",
        "</div>"
       ],
       "metadata": {},
       "output_type": "pyout",
       "prompt_number": 12,
       "text": [
        "    hours  withTournament  withoutTournament\n",
        "0       0     1195.915636        1155.358417\n",
        "1       1     1128.483657        1070.227273\n",
        "2       2      979.806627         847.023154\n",
        "3       3     1143.189767         949.556029\n",
        "4       4     1360.642857        1141.536217\n",
        "5       5     1468.886708        1228.092558\n",
        "6       6     1704.873095        1499.790976\n",
        "7       7     1945.114182        1753.298268\n",
        "8       8     2122.034217        1908.880928\n",
        "9       9     2148.573836        1933.758179\n",
        "10     10     2146.965605        1888.814444\n",
        "11     11     2207.114783        1765.159171\n",
        "12     12     2267.345432        1698.520000\n",
        "13     13     2250.895422        1818.843523\n",
        "14     14     2101.728727        1696.374579\n",
        "15     15     1921.576000        1530.884293\n",
        "16     16     1773.012739        1387.255054\n",
        "17     17     1557.514217        1261.043410\n",
        "18     18     1243.901905         966.188104\n",
        "19     19     1142.715636         962.717302\n",
        "20     20     1133.508500        1018.842789\n",
        "21     21     1124.405350        1080.739201\n",
        "22     22     1130.197073        1105.253866\n",
        "23     23     1156.423210        1122.033943"
       ]
      }
     ],
     "prompt_number": 12
    },
    {
     "cell_type": "heading",
     "level": 2,
     "metadata": {},
     "source": [
      "3. The Effects Of Followers And Number Of Periods Streaming On Viewer Count"
     ]
    },
    {
     "cell_type": "markdown",
     "metadata": {},
     "source": [
      "Here we want to check to see if there is any correlation on how long a streamer streams or how many followers they have. The reason why both are included is to show that tournaments generally have high viewership, but low followers and streaming periods. From the plots, we can discern that without the tournament data, there are less outliers (as previously mentioned). However, there appears to be no correlation between how many periods a streamer streams and viewer count. There is a slight correlation between followers and viewer count, but that should be expected as people are alerted when their streamer is live."
     ]
    },
    {
     "cell_type": "heading",
     "level": 3,
     "metadata": {},
     "source": [
      "Code For All Data"
     ]
    },
    {
     "cell_type": "code",
     "collapsed": false,
     "input": [
      "# Mean views of streamers\n",
      "avg_streamer = df.groupby('name')['current_viewers'].agg(np.mean)\n",
      "avg_streamer.sort(ascending=False, inplace=True)\n",
      "new_avg_streamer = pd.DataFrame(avg_streamer).reset_index()"
     ],
     "language": "python",
     "metadata": {},
     "outputs": [],
     "prompt_number": 13
    },
    {
     "cell_type": "code",
     "collapsed": false,
     "input": [
      "# Number of periods streamer streamed\n",
      "count_streamer = df.groupby('name')['current_viewers'].count()\n",
      "count_streamer.sort(ascending=False, inplace=True)\n",
      "new_count_streamer = pd.DataFrame(count_streamer).reset_index()"
     ],
     "language": "python",
     "metadata": {},
     "outputs": [],
     "prompt_number": 14
    },
    {
     "cell_type": "code",
     "collapsed": false,
     "input": [
      "# Mean followers of streamers\n",
      "avg_follower = df.groupby('name')['followers'].agg(np.mean)\n",
      "avg_follower = pd.DataFrame(avg_follower).reset_index()"
     ],
     "language": "python",
     "metadata": {},
     "outputs": [],
     "prompt_number": 15
    },
    {
     "cell_type": "code",
     "collapsed": false,
     "input": [
      "# Combine all data into final combined_streamer\n",
      "combined_streamer = pd.merge(new_avg_streamer, new_count_streamer, on='name')\n",
      "combined_streamer.columns = ('name', 'total_viewers', 'count')\n",
      "combined_streamer.sort(columns='total_viewers', ascending=False, inplace=True)"
     ],
     "language": "python",
     "metadata": {},
     "outputs": [],
     "prompt_number": 16
    },
    {
     "cell_type": "code",
     "collapsed": false,
     "input": [
      "combined_streamer_final = pd.merge(combined_streamer, avg_follower, on='name')\n",
      "combined_streamer_final.columns = ('name', 'mean_viewers', 'count', 'mean_followers')"
     ],
     "language": "python",
     "metadata": {},
     "outputs": [],
     "prompt_number": 17
    },
    {
     "cell_type": "heading",
     "level": 3,
     "metadata": {},
     "source": [
      "Code For No Tournament Data"
     ]
    },
    {
     "cell_type": "code",
     "collapsed": false,
     "input": [
      "mean_streamer_none_view = no_tourn_df.groupby('name')['current_viewers'].agg(np.mean)\n",
      "mean_streamer_none_view = pd.DataFrame(mean_streamer_none_view).reset_index()"
     ],
     "language": "python",
     "metadata": {},
     "outputs": [],
     "prompt_number": 18
    },
    {
     "cell_type": "code",
     "collapsed": false,
     "input": [
      "mean_streamer_none_follow = no_tourn_df.groupby('name')['followers'].agg(np.mean)\n",
      "mean_streamer_none_follow = pd.DataFrame(mean_streamer_none_follow).reset_index()"
     ],
     "language": "python",
     "metadata": {},
     "outputs": [],
     "prompt_number": 19
    },
    {
     "cell_type": "code",
     "collapsed": false,
     "input": [
      "count_streamer_none = no_tourn_df.groupby('name')['current_viewers'].count().reset_index()\n",
      "count_streamer_none.columns = ('name', 'count')"
     ],
     "language": "python",
     "metadata": {},
     "outputs": [],
     "prompt_number": 20
    },
    {
     "cell_type": "code",
     "collapsed": false,
     "input": [
      "no_tourn_merge = pd.merge(mean_streamer_none_view, mean_streamer_none_follow, on='name')\n",
      "no_tourn_merge1 = pd.merge(no_tourn_merge, count_streamer_none, on='name')"
     ],
     "language": "python",
     "metadata": {},
     "outputs": [],
     "prompt_number": 21
    },
    {
     "cell_type": "heading",
     "level": 3,
     "metadata": {},
     "source": [
      "Plots Of Mean Viewers VS Number Of Periods Streaming/Mean Followers"
     ]
    },
    {
     "cell_type": "code",
     "collapsed": false,
     "input": [
      "sns.pairplot(combined_streamer_final, x_vars=['count', 'mean_followers'], y_vars=['mean_viewers'], size=6, kind='reg')"
     ],
     "language": "python",
     "metadata": {},
     "outputs": [
      {
       "metadata": {},
       "output_type": "pyout",
       "prompt_number": 22,
       "text": [
        "<seaborn.axisgrid.PairGrid at 0x113f0750>"
       ]
      },
      {
       "metadata": {},
       "output_type": "display_data",
       "png": "[encoded data removed]",
       "text": [
        "<matplotlib.figure.Figure at 0x11570870>"
       ]
      }
     ],
     "prompt_number": 22
    },
    {
     "cell_type": "code",
     "collapsed": false,
     "input": [
      "sns.pairplot(no_tourn_merge1, x_vars=['count', 'followers'], y_vars=['current_viewers'], size=6, kind='reg')"
     ],
     "language": "python",
     "metadata": {},
     "outputs": [
      {
       "metadata": {},
       "output_type": "pyout",
       "prompt_number": 23,
       "text": [
        "<seaborn.axisgrid.PairGrid at 0x118f1610>"
       ]
      },
      {
       "metadata": {},
       "output_type": "display_data",
       "png": "[encoded data removed]",
       "text": [
        "<matplotlib.figure.Figure at 0x119d8550>"
       ]
      }
     ],
     "prompt_number": 23
    }
   ],
   "metadata": {}
  }
 ]
}