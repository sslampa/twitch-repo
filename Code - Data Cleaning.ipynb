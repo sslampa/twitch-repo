{
 "metadata": {
  "name": "",
  "signature": "sha256:4c4c6b06002301ad7afbc7789449b54b94a4135218ccea4c9b9400e20f4f3062"
 },
 "nbformat": 3,
 "nbformat_minor": 0,
 "worksheets": [
  {
   "cells": [
    {
     "cell_type": "heading",
     "level": 1,
     "metadata": {},
     "source": [
      "All Code For Data Cleaning"
     ]
    },
    {
     "cell_type": "heading",
     "level": 2,
     "metadata": {},
     "source": [
      "1. Summary"
     ]
    },
    {
     "cell_type": "markdown",
     "metadata": {},
     "source": [
      "The purpose of this is to show the main data cleaning that was used for the other IPython notebooks. All the other notebooks still contain general subsetting and aggregation. This code includes the library, create_list, which contains the two functions make_empty_dataframe and clean_date. The code for creating the .csv files for each individual team is also included."
     ]
    },
    {
     "cell_type": "code",
     "collapsed": false,
     "input": [
      "# This is where all the datasets for the project are contained. They will also be added to the github file.\n",
      "cd C:\\tmp"
     ],
     "language": "python",
     "metadata": {},
     "outputs": []
    },
    {
     "cell_type": "code",
     "collapsed": false,
     "input": [
      "# Import all libraries and have plots show in their respective blocks.\n",
      "import pandas as pd\n",
      "import datetime\n",
      "import time\n",
      "import numpy as np\n",
      "import matplotlib as mpl\n",
      "import matplotlib.pyplot as plt\n",
      "import seaborn as sns\n",
      "%matplotlib inline"
     ],
     "language": "python",
     "metadata": {},
     "outputs": []
    },
    {
     "cell_type": "code",
     "collapsed": false,
     "input": [
      "# Reads the .csv data\n",
      "df = pd.read_csv(\"june_final.csv\", header=None, names=['id', 'name', 'followers', 'current_viewers', 'date_time'])"
     ],
     "language": "python",
     "metadata": {},
     "outputs": []
    },
    {
     "cell_type": "code",
     "collapsed": false,
     "input": [
      "# Extracts individual pieces to be used later for the new datetime\n",
      "df['years'] = pd.DatetimeIndex(df['date_time']).year\n",
      "df['months'] = pd.DatetimeIndex(df['date_time']).month\n",
      "df['days'] = pd.DatetimeIndex(df['date_time']).day\n",
      "df['hours'] = pd.DatetimeIndex(df['date_time']).hour\n",
      "df['minutes'] = pd.DatetimeIndex(df['date_time']).minute"
     ],
     "language": "python",
     "metadata": {},
     "outputs": []
    },
    {
     "cell_type": "heading",
     "level": 2,
     "metadata": {},
     "source": [
      "2. Library: create_list"
     ]
    },
    {
     "cell_type": "markdown",
     "metadata": {},
     "source": [
      "This function creates a dataframe with an index that ranges from 5/30/2015 - 6/30/2015 where each value is a zero.\n",
      "This dataframe is created to later combine with other dataframes where downtime is needed - giving a \n",
      "complete time series. It is included in the create_list library."
     ]
    },
    {
     "cell_type": "code",
     "collapsed": false,
     "input": [
      "def make_empty_dataframe(df):\n",
      "    date_tmp = pd.date_range(start=datetime.datetime(2015, 5, 30), end=datetime.datetime(2015, 6, 30)).tolist()\n",
      "    date_df = pd.DataFrame(date_tmp).reset_index()\n",
      "    date_df.columns = ('index', 'date')\n",
      "    date_list = pd.to_datetime(date_df['date']).tolist()\n",
      "\n",
      "    datetime_list = []\n",
      "    hour_list = np.arange(0,24)\n",
      "    min_list = (0, 10, 20, 30, 40, 50)\n",
      "\n",
      "    for x in date_list:\n",
      "        day1 = x.day\n",
      "        month1 = x.month\n",
      "        year1 = x.year\n",
      "\n",
      "        for y in hour_list:\n",
      "            for z in min_list:\n",
      "                datetime_list.append(datetime.datetime(year1, month1, day1, y, z))\n",
      "    \n",
      "    datetime_df = pd.DataFrame(index=datetime_list, columns=['A'])\n",
      "    datetime_df.fillna(0, inplace=True)\n",
      "\n",
      "    return datetime_d"
     ],
     "language": "python",
     "metadata": {},
     "outputs": []
    },
    {
     "cell_type": "markdown",
     "metadata": {},
     "source": [
      "This function is included in the create_list library.\n",
      "The purpose of this function is to clean the minutes so that it is either 00, 10, 20, 30, 40, 50\n",
      "and then placed into a dataframe column as a datetime object."
     ]
    },
    {
     "cell_type": "code",
     "collapsed": false,
     "input": [
      "def clean_date(df):\n",
      "    zeroes = np.arange(0, 10)\n",
      "    tens = np.arange(10, 20)\n",
      "    twenties = np.arange(20, 30)\n",
      "    thirties = np.arange(30, 40)\n",
      "    fourties = np.arange(40, 50)\n",
      "    fifties = np.arange(50, 60)\n",
      "    df['minutes'].replace(fourties, 40, inplace=True)\n",
      "    df['minutes'].replace(zeroes, 0, inplace=True)\n",
      "    df['minutes'].replace(tens, 10, inplace=True)\n",
      "    df['minutes'].replace(twenties, 20, inplace=True)\n",
      "    df['minutes'].replace(thirties, 30, inplace=True)\n",
      "    df['minutes'].replace(fifties, 50, inplace=True)\n",
      "\n",
      "    for index, row in df.iterrows():\n",
      "        df.loc[index, 'test'] = datetime.datetime(row['years'], row['months'], row['days'], row['hours'], row['minutes'])\n",
      "\n",
      "    return df"
     ],
     "language": "python",
     "metadata": {},
     "outputs": []
    },
    {
     "cell_type": "heading",
     "level": 2,
     "metadata": {},
     "source": [
      "3. Create Team Datasets"
     ]
    },
    {
     "cell_type": "code",
     "collapsed": false,
     "input": [
      "# List of each players' twitch.tv name\n",
      "archon = ['amazhs', 'deernadia', 'hero_firebat', 'xixo', 'zalaehs', 'orange_hs', 'backspacehs', 'purpledrank_hs']\n",
      "c9 = ['gnimsh', 'itshafu', 'kolento', 'ek0p', 'strifecro', 'tidesoftime', 'massansc']\n",
      "complexity = ['superjj102', 'hsdogdog', 'thejordude', 'ryzentv']\n",
      "liquid = ['savjz', 'neirea', 'sjow']\n",
      "nihilum = ['thijshs', 'lifecoach1981', 'lotharhs', 'radu_hs']\n",
      "tempostorm = ['reynad27', 'gaarabestshaman', 'ratsmah', 'reckful', 'hyp3d', 'eloise_ailv', 'justsaiyanhs']\n",
      "tsm = ['nl_kripp', 'trumpsc']"
     ],
     "language": "python",
     "metadata": {},
     "outputs": []
    },
    {
     "cell_type": "code",
     "collapsed": false,
     "input": [
      "# Make individual team datasets\n",
      "archon_df = df[df['name'].isin(archon)]\n",
      "c9_df = df[df['name'].isin(c9)]\n",
      "complexity_df = df[df['name'].isin(complexity)]\n",
      "liquid_df = df[df['name'].isin(liquid)]\n",
      "nihilum_df = df[df['name'].isin(nihilum)]\n",
      "tempostorm_df = df[df['name'].isin(tempostorm)]\n",
      "tsm_df = df[df['name'].isin(tsm)]"
     ],
     "language": "python",
     "metadata": {},
     "outputs": []
    },
    {
     "cell_type": "code",
     "collapsed": false,
     "input": [
      "# Make separate files for each team\n",
      "archon_df.to_csv('archon.csv', columns=('name', 'followers', 'current_viewers', 'days', 'hours', 'minutes', 'test'))\n",
      "c9_df.to_csv('c9.csv', columns=('name', 'followers', 'current_viewers', 'days', 'hours', 'minutes', 'test'))\n",
      "complexity_df.to_csv('complexity.csv', columns=('name', 'followers', 'current_viewers', 'days', 'hours', 'minutes', 'test'))\n",
      "liquid_df.to_csv('liquid.csv', columns=('name', 'followers', 'current_viewers', 'days', 'hours', 'minutes', 'test'))\n",
      "nihilum_df.to_csv('nihilum.csv', columns=('name', 'followers', 'current_viewers', 'days', 'hours', 'minutes', 'test'))\n",
      "tempostorm_df.to_csv('tempostorm.csv', columns=('name', 'followers', 'current_viewers', 'days', 'hours', 'minutes', 'test'))\n",
      "tsm_df.to_csv('tsm.csv', columns=('name', 'followers', 'current_viewers', 'days', 'hours', 'minutes', 'test'))"
     ],
     "language": "python",
     "metadata": {},
     "outputs": []
    }
   ],
   "metadata": {}
  }
 ]
}