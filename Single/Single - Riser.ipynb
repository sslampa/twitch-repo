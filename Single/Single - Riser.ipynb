{
 "metadata": {
  "name": "",
  "signature": "sha256:3fa5056075712c2a86a2564b3f7681c650b744854d201925c1db3a371220949b"
 },
 "nbformat": 3,
 "nbformat_minor": 0,
 "worksheets": [
  {
   "cells": [
    {
     "cell_type": "heading",
     "level": 1,
     "metadata": {},
     "source": [
      "Who Is The Fastest Rising Streamer?"
     ]
    },
    {
     "cell_type": "heading",
     "level": 2,
     "metadata": {},
     "source": [
      "1. Summary"
     ]
    },
    {
     "cell_type": "markdown",
     "metadata": {},
     "source": [
      "The goal for this notebook is simple: who is the fastest rising streamer? To determine this, we needed to show how each streamer progressed through the month. We chose to use the percent change and difference between the maximum and minimum followers for each streamer. When looking at the population, we grouped each streamer into small, medium, or large percent change groups. This was done to check my initial hypothesis that those with large percent change have, generally, smaller amounts of followers. On the other side, those with a small percent change have already established, large amount of followers. The last step involved looking at each extreme case and finding which one of those best showed the fastest rising streamer."
     ]
    },
    {
     "cell_type": "code",
     "collapsed": false,
     "input": [
      "cd C:\\tmp"
     ],
     "language": "python",
     "metadata": {},
     "outputs": [
      {
       "output_type": "stream",
       "stream": "stdout",
       "text": [
        "C:\\tmp\n"
       ]
      }
     ],
     "prompt_number": 1
    },
    {
     "cell_type": "code",
     "collapsed": false,
     "input": [
      "import pandas as pd\n",
      "import datetime\n",
      "import time\n",
      "import numpy as np\n",
      "import matplotlib.pyplot as plt\n",
      "import seaborn as sns\n",
      "import create_list\n",
      "%matplotlib inline"
     ],
     "language": "python",
     "metadata": {},
     "outputs": [],
     "prompt_number": 2
    },
    {
     "cell_type": "code",
     "collapsed": false,
     "input": [
      "# Reads the .csv data\n",
      "df = pd.read_csv(\"june_final.csv\", header=None, names=['id', 'name', 'followers', 'current_viewers', 'date_time'])"
     ],
     "language": "python",
     "metadata": {},
     "outputs": [],
     "prompt_number": 3
    },
    {
     "cell_type": "heading",
     "level": 2,
     "metadata": {},
     "source": [
      "2. Create Follower Dataset"
     ]
    },
    {
     "cell_type": "markdown",
     "metadata": {},
     "source": [
      "Here we create the dataset, followers, by applying the percent_change and difference functions. The percent change comes up negative or zero for all streamers as no one lost followers. A larger negative number indicates more of a percent change. "
     ]
    },
    {
     "cell_type": "code",
     "collapsed": false,
     "input": [
      "max_followers = pd.DataFrame(df.groupby('name')['followers'].max()).reset_index()\n",
      "max_followers.columns = ('name', 'max')\n",
      "min_followers = pd.DataFrame(df.groupby('name')['followers'].min()).reset_index()\n",
      "min_followers.columns = ('name', 'min')\n",
      "sum_followers = pd.DataFrame(df.groupby('name')['followers'].mean()).reset_index()\n",
      "followers = max_followers.merge(min_followers, on='name')"
     ],
     "language": "python",
     "metadata": {},
     "outputs": [],
     "prompt_number": 4
    },
    {
     "cell_type": "code",
     "collapsed": false,
     "input": [
      "def percent_change(s):\n",
      "    if s['min'] == 0:\n",
      "        return None\n",
      "    else:\n",
      "        return (float(s['min']) - float(s['max'])) / float(s['min']) * 100.0"
     ],
     "language": "python",
     "metadata": {},
     "outputs": [],
     "prompt_number": 5
    },
    {
     "cell_type": "code",
     "collapsed": false,
     "input": [
      "def difference(s):\n",
      "    return s['max'] - s['min']"
     ],
     "language": "python",
     "metadata": {},
     "outputs": [],
     "prompt_number": 6
    },
    {
     "cell_type": "code",
     "collapsed": false,
     "input": [
      "followers['pct_change'] = followers.apply(percent_change, axis=1)\n",
      "followers = followers.merge(sum_followers)\n",
      "followers['difference'] = followers.apply(difference, axis=1)\n",
      "count = df.groupby('name')['current_viewers'].count().reset_index()\n",
      "count.columns = ('name', 'count')\n",
      "followers = followers.merge(count, on='name')\n",
      "followers.columns = ('name', 'max', 'min', 'pct_change', 'mean_followers', 'difference', 'count')"
     ],
     "language": "python",
     "metadata": {},
     "outputs": [],
     "prompt_number": 7
    },
    {
     "cell_type": "heading",
     "level": 3,
     "metadata": {},
     "source": [
      "Followers Dataset Summary"
     ]
    },
    {
     "cell_type": "markdown",
     "metadata": {},
     "source": [
      "Here is a summary of each column to get a general overview of the follower dataframe."
     ]
    },
    {
     "cell_type": "code",
     "collapsed": false,
     "input": [
      "followers.describe()"
     ],
     "language": "python",
     "metadata": {},
     "outputs": [
      {
       "html": [
        "<div style=\"max-height:1000px;max-width:1500px;overflow:auto;\">\n",
        "<table border=\"1\" class=\"dataframe\">\n",
        "  <thead>\n",
        "    <tr style=\"text-align: right;\">\n",
        "      <th></th>\n",
        "      <th>max</th>\n",
        "      <th>min</th>\n",
        "      <th>pct_change</th>\n",
        "      <th>mean_followers</th>\n",
        "      <th>difference</th>\n",
        "      <th>count</th>\n",
        "    </tr>\n",
        "  </thead>\n",
        "  <tbody>\n",
        "    <tr>\n",
        "      <th>count</th>\n",
        "      <td>1120.000000</td>\n",
        "      <td>1120.000000</td>\n",
        "      <td>1111.000000</td>\n",
        "      <td>1120.000000</td>\n",
        "      <td>1120.000000</td>\n",
        "      <td>1120.000000</td>\n",
        "    </tr>\n",
        "    <tr>\n",
        "      <th>mean</th>\n",
        "      <td>17225.342857</td>\n",
        "      <td>16430.797321</td>\n",
        "      <td>-97.707490</td>\n",
        "      <td>16835.229432</td>\n",
        "      <td>794.545536</td>\n",
        "      <td>87.901786</td>\n",
        "    </tr>\n",
        "    <tr>\n",
        "      <th>std</th>\n",
        "      <td>51020.978087</td>\n",
        "      <td>49460.865390</td>\n",
        "      <td>774.338636</td>\n",
        "      <td>50275.394924</td>\n",
        "      <td>2667.720183</td>\n",
        "      <td>211.876571</td>\n",
        "    </tr>\n",
        "    <tr>\n",
        "      <th>min</th>\n",
        "      <td>0.000000</td>\n",
        "      <td>0.000000</td>\n",
        "      <td>-16175.000000</td>\n",
        "      <td>0.000000</td>\n",
        "      <td>0.000000</td>\n",
        "      <td>1.000000</td>\n",
        "    </tr>\n",
        "    <tr>\n",
        "      <th>25%</th>\n",
        "      <td>458.000000</td>\n",
        "      <td>348.750000</td>\n",
        "      <td>-15.928776</td>\n",
        "      <td>405.416667</td>\n",
        "      <td>2.000000</td>\n",
        "      <td>4.000000</td>\n",
        "    </tr>\n",
        "    <tr>\n",
        "      <th>50%</th>\n",
        "      <td>2632.000000</td>\n",
        "      <td>2309.000000</td>\n",
        "      <td>-3.097345</td>\n",
        "      <td>2487.892857</td>\n",
        "      <td>70.000000</td>\n",
        "      <td>15.000000</td>\n",
        "    </tr>\n",
        "    <tr>\n",
        "      <th>75%</th>\n",
        "      <td>10980.750000</td>\n",
        "      <td>9985.250000</td>\n",
        "      <td>-0.045674</td>\n",
        "      <td>10251.234940</td>\n",
        "      <td>471.000000</td>\n",
        "      <td>66.250000</td>\n",
        "    </tr>\n",
        "    <tr>\n",
        "      <th>max</th>\n",
        "      <td>584620.000000</td>\n",
        "      <td>584325.000000</td>\n",
        "      <td>0.000000</td>\n",
        "      <td>584436.000000</td>\n",
        "      <td>35772.000000</td>\n",
        "      <td>3099.000000</td>\n",
        "    </tr>\n",
        "  </tbody>\n",
        "</table>\n",
        "</div>"
       ],
       "metadata": {},
       "output_type": "pyout",
       "prompt_number": 8,
       "text": [
        "                 max            min    pct_change  mean_followers  \\\n",
        "count    1120.000000    1120.000000   1111.000000     1120.000000   \n",
        "mean    17225.342857   16430.797321    -97.707490    16835.229432   \n",
        "std     51020.978087   49460.865390    774.338636    50275.394924   \n",
        "min         0.000000       0.000000 -16175.000000        0.000000   \n",
        "25%       458.000000     348.750000    -15.928776      405.416667   \n",
        "50%      2632.000000    2309.000000     -3.097345     2487.892857   \n",
        "75%     10980.750000    9985.250000     -0.045674    10251.234940   \n",
        "max    584620.000000  584325.000000      0.000000   584436.000000   \n",
        "\n",
        "         difference        count  \n",
        "count   1120.000000  1120.000000  \n",
        "mean     794.545536    87.901786  \n",
        "std     2667.720183   211.876571  \n",
        "min        0.000000     1.000000  \n",
        "25%        2.000000     4.000000  \n",
        "50%       70.000000    15.000000  \n",
        "75%      471.000000    66.250000  \n",
        "max    35772.000000  3099.000000  "
       ]
      }
     ],
     "prompt_number": 8
    },
    {
     "cell_type": "heading",
     "level": 2,
     "metadata": {},
     "source": [
      "3. Differentiate Groups"
     ]
    },
    {
     "cell_type": "markdown",
     "metadata": {},
     "source": [
      "The groupings represent my original hypothesis of smaller percent change means more initial followers and larger percent change means less initial followers. We used the '> -5' to represent the small_change as we felt this best represented the group with the largest amount of initial followers. The large_change group uses '< -200' as this was the cutoff where group sees the most low initial followers members. The medium_change group appears to be unnecessary, but as the coming plots will show, is its own group."
     ]
    },
    {
     "cell_type": "code",
     "collapsed": false,
     "input": [
      "small_change = followers[(followers['pct_change'] > -5)]\n",
      "medium_change = followers[(followers['pct_change'] <= -5) & (followers['pct_change'] >= -200)]\n",
      "large_change = followers[(followers['pct_change'] < -200)]"
     ],
     "language": "python",
     "metadata": {},
     "outputs": [],
     "prompt_number": 9
    },
    {
     "cell_type": "heading",
     "level": 2,
     "metadata": {},
     "source": [
      "4. Looking At The Population"
     ]
    },
    {
     "cell_type": "heading",
     "level": 3,
     "metadata": {},
     "source": [
      "Minimum Followers Vs Maximum Followers"
     ]
    },
    {
     "cell_type": "markdown",
     "metadata": {},
     "source": [
      "This plot shows a general view on where each streamer started and ended. Points above the line show the difference between the minimum/maximum followers (any point on the line is zero difference as the line equation is y=x). It is worth noting that the small_change group (orange points) have the highest initial followers, while the large_change (red points) have the lowest initial followers."
     ]
    },
    {
     "cell_type": "code",
     "collapsed": false,
     "input": [
      "y = followers.plot(x='min', y='max', kind='scatter', figsize=(10,8))\n",
      "small_change.plot(x='min', y='max', kind='scatter', color='orange', ax=y)\n",
      "medium_change.plot(x='min', y='max', kind='scatter', color='blue', ax=y)\n",
      "large_change.plot(x='min', y='max', kind='scatter', color='red', ax=y)\n",
      "plt.plot(range(700000), range(700000))"
     ],
     "language": "python",
     "metadata": {},
     "outputs": [
      {
       "metadata": {},
       "output_type": "pyout",
       "prompt_number": 10,
       "text": [
        "[<matplotlib.lines.Line2D at 0x850a150>]"
       ]
      },
      {
       "metadata": {},
       "output_type": "display_data",
       "png": "[encoded data removed]",
       "text": [
        "<matplotlib.figure.Figure at 0x850a1f0>"
       ]
      }
     ],
     "prompt_number": 10
    },
    {
     "cell_type": "heading",
     "level": 3,
     "metadata": {},
     "source": [
      "Average Followers Vs Number of Periods Streaming"
     ]
    },
    {
     "cell_type": "markdown",
     "metadata": {},
     "source": [
      "I wanted to check for any correlation between how many times someone streams and how many average followers a streamer has. This is where the medium_change group differentiates itself from the other two groups. While the medium_change group has lower average followers, it also carries streamers that have more streaming periods. This is interesting as more exposure does not necessarily mean more popularity. "
     ]
    },
    {
     "cell_type": "code",
     "collapsed": false,
     "input": [
      "k = followers.plot('count', 'mean_followers', kind='scatter', figsize=(10,8))\n",
      "small_change.plot(x='count', y='mean_followers', kind='scatter', color='orange', ax=k)\n",
      "medium_change.plot(x='count', y='mean_followers', kind='scatter', color='blue', ax=k)\n",
      "large_change.plot(x='count', y='mean_followers', kind='scatter', color='red', ax=k)"
     ],
     "language": "python",
     "metadata": {},
     "outputs": [
      {
       "metadata": {},
       "output_type": "pyout",
       "prompt_number": 11,
       "text": [
        "<matplotlib.axes._subplots.AxesSubplot at 0x849fe70>"
       ]
      },
      {
       "metadata": {},
       "output_type": "display_data",
       "png": "[encoded data removed]",
       "text": [
        "<matplotlib.figure.Figure at 0x850a0f0>"
       ]
      }
     ],
     "prompt_number": 11
    },
    {
     "cell_type": "heading",
     "level": 2,
     "metadata": {},
     "source": [
      "5. Finding Highest Risers"
     ]
    },
    {
     "cell_type": "heading",
     "level": 3,
     "metadata": {},
     "source": [
      "Percent Change Vs Difference Between Initial And Final Follower Count"
     ]
    },
    {
     "cell_type": "markdown",
     "metadata": {},
     "source": [
      "This plot illustrates both the extreme areas and the area of focus. The extreme areas separate themselves from the majority of the group and will be highlighted in the coming plots; however, the area of focus is the bottom right area of the intersecting lines. This area best represents having both a large number of followers and a high percent change. "
     ]
    },
    {
     "cell_type": "code",
     "collapsed": false,
     "input": [
      "z=followers.plot(x='difference', y='pct_change', kind='scatter', figsize=(10,8))\n",
      "small_change.plot(x='difference', y='pct_change', kind='scatter', color='orange', ax=z)\n",
      "medium_change.plot(x='difference', y='pct_change', kind='scatter', color='blue', ax=z)\n",
      "large_change.plot(x='difference', y='pct_change', kind='scatter', color='red', ax=z)\n",
      "plt.axhline(-1000, color='black')\n",
      "plt.axvline(1000, color='black')"
     ],
     "language": "python",
     "metadata": {},
     "outputs": [
      {
       "metadata": {},
       "output_type": "pyout",
       "prompt_number": 12,
       "text": [
        "<matplotlib.lines.Line2D at 0x130d72d0>"
       ]
      },
      {
       "metadata": {},
       "output_type": "display_data",
       "png": "[encoded data removed]",
       "text": [
        "<matplotlib.figure.Figure at 0x130d7130>"
       ]
      }
     ],
     "prompt_number": 12
    },
    {
     "cell_type": "heading",
     "level": 3,
     "metadata": {},
     "source": [
      "Bottom Right Streamers Table"
     ]
    },
    {
     "cell_type": "markdown",
     "metadata": {},
     "source": [
      "Of the five streamers, only one (eloise_ailv) of them is a non-tournament stream. Even when compared to the tournament streams, eloise_ailv has a large difference and percent change."
     ]
    },
    {
     "cell_type": "code",
     "collapsed": false,
     "input": [
      "followers[(followers['pct_change'] < -1000) & (followers['difference'] > 1000)].sort('difference', ascending=False)"
     ],
     "language": "python",
     "metadata": {},
     "outputs": [
      {
       "html": [
        "<div style=\"max-height:1000px;max-width:1500px;overflow:auto;\">\n",
        "<table border=\"1\" class=\"dataframe\">\n",
        "  <thead>\n",
        "    <tr style=\"text-align: right;\">\n",
        "      <th></th>\n",
        "      <th>name</th>\n",
        "      <th>max</th>\n",
        "      <th>min</th>\n",
        "      <th>pct_change</th>\n",
        "      <th>mean_followers</th>\n",
        "      <th>difference</th>\n",
        "      <th>count</th>\n",
        "    </tr>\n",
        "  </thead>\n",
        "  <tbody>\n",
        "    <tr>\n",
        "      <th>261</th>\n",
        "      <td>eloise_ailv</td>\n",
        "      <td>25533</td>\n",
        "      <td>1114</td>\n",
        "      <td>-2192.010772</td>\n",
        "      <td>15453.219697</td>\n",
        "      <td>24419</td>\n",
        "      <td>264</td>\n",
        "    </tr>\n",
        "    <tr>\n",
        "      <th>234</th>\n",
        "      <td>dreamhackhs</td>\n",
        "      <td>24986</td>\n",
        "      <td>915</td>\n",
        "      <td>-2630.710383</td>\n",
        "      <td>15564.789474</td>\n",
        "      <td>24071</td>\n",
        "      <td>171</td>\n",
        "    </tr>\n",
        "    <tr>\n",
        "      <th>927</th>\n",
        "      <td>starladder_hs_ru</td>\n",
        "      <td>6758</td>\n",
        "      <td>421</td>\n",
        "      <td>-1505.225653</td>\n",
        "      <td>4129.890110</td>\n",
        "      <td>6337</td>\n",
        "      <td>182</td>\n",
        "    </tr>\n",
        "    <tr>\n",
        "      <th>926</th>\n",
        "      <td>starladder_hs_en</td>\n",
        "      <td>4686</td>\n",
        "      <td>38</td>\n",
        "      <td>-12231.578947</td>\n",
        "      <td>2897.696370</td>\n",
        "      <td>4648</td>\n",
        "      <td>303</td>\n",
        "    </tr>\n",
        "    <tr>\n",
        "      <th>1057</th>\n",
        "      <td>vulcunhs</td>\n",
        "      <td>2929</td>\n",
        "      <td>57</td>\n",
        "      <td>-5038.596491</td>\n",
        "      <td>1286.288732</td>\n",
        "      <td>2872</td>\n",
        "      <td>142</td>\n",
        "    </tr>\n",
        "  </tbody>\n",
        "</table>\n",
        "</div>"
       ],
       "metadata": {},
       "output_type": "pyout",
       "prompt_number": 13,
       "text": [
        "                  name    max   min    pct_change  mean_followers  difference  \\\n",
        "261        eloise_ailv  25533  1114  -2192.010772    15453.219697       24419   \n",
        "234        dreamhackhs  24986   915  -2630.710383    15564.789474       24071   \n",
        "927   starladder_hs_ru   6758   421  -1505.225653     4129.890110        6337   \n",
        "926   starladder_hs_en   4686    38 -12231.578947     2897.696370        4648   \n",
        "1057          vulcunhs   2929    57  -5038.596491     1286.288732        2872   \n",
        "\n",
        "      count  \n",
        "261     264  \n",
        "234     171  \n",
        "927     182  \n",
        "926     303  \n",
        "1057    142  "
       ]
      }
     ],
     "prompt_number": 13
    },
    {
     "cell_type": "heading",
     "level": 3,
     "metadata": {},
     "source": [
      "Top Right Streamers Plot"
     ]
    },
    {
     "cell_type": "markdown",
     "metadata": {},
     "source": [
      "The below plot is zoomed in on the top right of the previous plot. This area represents those with large numbers, but minimal percent change. "
     ]
    },
    {
     "cell_type": "code",
     "collapsed": false,
     "input": [
      "g=followers.plot(x='difference', y='pct_change', kind='scatter', figsize=(10,8), xlim=[17000,40000], ylim=[-100,50])\n",
      "small_change.plot(x='difference', y='pct_change', kind='scatter', color='orange', ax=g)\n",
      "medium_change.plot(x='difference', y='pct_change', kind='scatter', color='blue', ax=g)\n",
      "large_change.plot(x='difference', y='pct_change', kind='scatter', color='red', ax=g)"
     ],
     "language": "python",
     "metadata": {},
     "outputs": [
      {
       "metadata": {},
       "output_type": "pyout",
       "prompt_number": 14,
       "text": [
        "<matplotlib.axes._subplots.AxesSubplot at 0x858edb0>"
       ]
      },
      {
       "metadata": {},
       "output_type": "display_data",
       "png": "[encoded data removed]",
       "text": [
        "<matplotlib.figure.Figure at 0x858e0d0>"
       ]
      }
     ],
     "prompt_number": 14
    },
    {
     "cell_type": "heading",
     "level": 3,
     "metadata": {},
     "source": [
      "Top Right Streamers Table"
     ]
    },
    {
     "cell_type": "markdown",
     "metadata": {},
     "source": [
      "This list is sorted by difference and is topped by the streamer legendarylea."
     ]
    },
    {
     "cell_type": "code",
     "collapsed": false,
     "input": [
      "followers[(followers['pct_change'] > -100) & (followers['difference'] > 17000)].sort('difference', ascending=False)"
     ],
     "language": "python",
     "metadata": {},
     "outputs": [
      {
       "html": [
        "<div style=\"max-height:1000px;max-width:1500px;overflow:auto;\">\n",
        "<table border=\"1\" class=\"dataframe\">\n",
        "  <thead>\n",
        "    <tr style=\"text-align: right;\">\n",
        "      <th></th>\n",
        "      <th>name</th>\n",
        "      <th>max</th>\n",
        "      <th>min</th>\n",
        "      <th>pct_change</th>\n",
        "      <th>mean_followers</th>\n",
        "      <th>difference</th>\n",
        "      <th>count</th>\n",
        "    </tr>\n",
        "  </thead>\n",
        "  <tbody>\n",
        "    <tr>\n",
        "      <th>554</th>\n",
        "      <td>legendarylea</td>\n",
        "      <td>395041</td>\n",
        "      <td>359269</td>\n",
        "      <td>-9.956885</td>\n",
        "      <td>383732.067376</td>\n",
        "      <td>35772</td>\n",
        "      <td>282</td>\n",
        "    </tr>\n",
        "    <tr>\n",
        "      <th>434</th>\n",
        "      <td>i_amwildcat</td>\n",
        "      <td>269340</td>\n",
        "      <td>242702</td>\n",
        "      <td>-10.975600</td>\n",
        "      <td>248766.560976</td>\n",
        "      <td>26638</td>\n",
        "      <td>41</td>\n",
        "    </tr>\n",
        "    <tr>\n",
        "      <th>314</th>\n",
        "      <td>forsenlol</td>\n",
        "      <td>257025</td>\n",
        "      <td>235222</td>\n",
        "      <td>-9.269116</td>\n",
        "      <td>246401.266223</td>\n",
        "      <td>21803</td>\n",
        "      <td>601</td>\n",
        "    </tr>\n",
        "    <tr>\n",
        "      <th>622</th>\n",
        "      <td>massansc</td>\n",
        "      <td>188215</td>\n",
        "      <td>167512</td>\n",
        "      <td>-12.359115</td>\n",
        "      <td>177707.875604</td>\n",
        "      <td>20703</td>\n",
        "      <td>828</td>\n",
        "    </tr>\n",
        "    <tr>\n",
        "      <th>568</th>\n",
        "      <td>lightofheaven</td>\n",
        "      <td>118788</td>\n",
        "      <td>98254</td>\n",
        "      <td>-20.898895</td>\n",
        "      <td>113474.000000</td>\n",
        "      <td>20534</td>\n",
        "      <td>69</td>\n",
        "    </tr>\n",
        "    <tr>\n",
        "      <th>721</th>\n",
        "      <td>nl_kripp</td>\n",
        "      <td>545211</td>\n",
        "      <td>524793</td>\n",
        "      <td>-3.890677</td>\n",
        "      <td>535652.168317</td>\n",
        "      <td>20418</td>\n",
        "      <td>606</td>\n",
        "    </tr>\n",
        "    <tr>\n",
        "      <th>1009</th>\n",
        "      <td>trumpsc</td>\n",
        "      <td>540736</td>\n",
        "      <td>521113</td>\n",
        "      <td>-3.765594</td>\n",
        "      <td>531757.481775</td>\n",
        "      <td>19623</td>\n",
        "      <td>631</td>\n",
        "    </tr>\n",
        "  </tbody>\n",
        "</table>\n",
        "</div>"
       ],
       "metadata": {},
       "output_type": "pyout",
       "prompt_number": 15,
       "text": [
        "               name     max     min  pct_change  mean_followers  difference  \\\n",
        "554    legendarylea  395041  359269   -9.956885   383732.067376       35772   \n",
        "434     i_amwildcat  269340  242702  -10.975600   248766.560976       26638   \n",
        "314       forsenlol  257025  235222   -9.269116   246401.266223       21803   \n",
        "622        massansc  188215  167512  -12.359115   177707.875604       20703   \n",
        "568   lightofheaven  118788   98254  -20.898895   113474.000000       20534   \n",
        "721        nl_kripp  545211  524793   -3.890677   535652.168317       20418   \n",
        "1009        trumpsc  540736  521113   -3.765594   531757.481775       19623   \n",
        "\n",
        "      count  \n",
        "554     282  \n",
        "434      41  \n",
        "314     601  \n",
        "622     828  \n",
        "568      69  \n",
        "721     606  \n",
        "1009    631  "
       ]
      }
     ],
     "prompt_number": 15
    },
    {
     "cell_type": "heading",
     "level": 3,
     "metadata": {},
     "source": [
      "Bottom Left Streamers Plot"
     ]
    },
    {
     "cell_type": "markdown",
     "metadata": {},
     "source": [
      "This plot zooms in on the streamers at the bottom left of the above plot. It shows those with little difference change and extremely high percent change."
     ]
    },
    {
     "cell_type": "code",
     "collapsed": false,
     "input": [
      "f=followers.plot(x='difference', y='pct_change', kind='scatter', figsize=(10,8), xlim=[-1000,2000], ylim=[-18000,-4000])\n",
      "small_change.plot(x='difference', y='pct_change', kind='scatter', color='orange', ax=f)\n",
      "medium_change.plot(x='difference', y='pct_change', kind='scatter', color='blue', ax=f)\n",
      "large_change.plot(x='difference', y='pct_change', kind='scatter', color='red', ax=f)"
     ],
     "language": "python",
     "metadata": {},
     "outputs": [
      {
       "metadata": {},
       "output_type": "pyout",
       "prompt_number": 16,
       "text": [
        "<matplotlib.axes._subplots.AxesSubplot at 0x131465f0>"
       ]
      },
      {
       "metadata": {},
       "output_type": "display_data",
       "png": "[encoded data removed]",
       "text": [
        "<matplotlib.figure.Figure at 0x8431090>"
       ]
      }
     ],
     "prompt_number": 16
    },
    {
     "cell_type": "heading",
     "level": 3,
     "metadata": {},
     "source": [
      "Bottom Left Streamers Table"
     ]
    },
    {
     "cell_type": "markdown",
     "metadata": {},
     "source": [
      "One member, luckyt1xe, is clearly the fastest riser in this group. This streamer posses both a high difference and percent change."
     ]
    },
    {
     "cell_type": "code",
     "collapsed": false,
     "input": [
      "followers[(followers['pct_change'] < -4000) & (followers['difference'] < 2000)].sort('pct_change')"
     ],
     "language": "python",
     "metadata": {},
     "outputs": [
      {
       "html": [
        "<div style=\"max-height:1000px;max-width:1500px;overflow:auto;\">\n",
        "<table border=\"1\" class=\"dataframe\">\n",
        "  <thead>\n",
        "    <tr style=\"text-align: right;\">\n",
        "      <th></th>\n",
        "      <th>name</th>\n",
        "      <th>max</th>\n",
        "      <th>min</th>\n",
        "      <th>pct_change</th>\n",
        "      <th>mean_followers</th>\n",
        "      <th>difference</th>\n",
        "      <th>count</th>\n",
        "    </tr>\n",
        "  </thead>\n",
        "  <tbody>\n",
        "    <tr>\n",
        "      <th>592</th>\n",
        "      <td>luckyt1xe</td>\n",
        "      <td>651</td>\n",
        "      <td>4</td>\n",
        "      <td>-16175</td>\n",
        "      <td>322.209302</td>\n",
        "      <td>647</td>\n",
        "      <td>43</td>\n",
        "    </tr>\n",
        "    <tr>\n",
        "      <th>987</th>\n",
        "      <td>thomilias</td>\n",
        "      <td>112</td>\n",
        "      <td>1</td>\n",
        "      <td>-11100</td>\n",
        "      <td>38.000000</td>\n",
        "      <td>111</td>\n",
        "      <td>3</td>\n",
        "    </tr>\n",
        "    <tr>\n",
        "      <th>398</th>\n",
        "      <td>hearthstone_cafe_minsk</td>\n",
        "      <td>106</td>\n",
        "      <td>2</td>\n",
        "      <td>-5200</td>\n",
        "      <td>44.754717</td>\n",
        "      <td>104</td>\n",
        "      <td>53</td>\n",
        "    </tr>\n",
        "    <tr>\n",
        "      <th>957</th>\n",
        "      <td>teen_girl</td>\n",
        "      <td>147</td>\n",
        "      <td>3</td>\n",
        "      <td>-4800</td>\n",
        "      <td>85.833333</td>\n",
        "      <td>144</td>\n",
        "      <td>6</td>\n",
        "    </tr>\n",
        "    <tr>\n",
        "      <th>1027</th>\n",
        "      <td>unknown11291</td>\n",
        "      <td>48</td>\n",
        "      <td>1</td>\n",
        "      <td>-4700</td>\n",
        "      <td>29.000000</td>\n",
        "      <td>47</td>\n",
        "      <td>15</td>\n",
        "    </tr>\n",
        "  </tbody>\n",
        "</table>\n",
        "</div>"
       ],
       "metadata": {},
       "output_type": "pyout",
       "prompt_number": 17,
       "text": [
        "                        name  max  min  pct_change  mean_followers  \\\n",
        "592                luckyt1xe  651    4      -16175      322.209302   \n",
        "987                thomilias  112    1      -11100       38.000000   \n",
        "398   hearthstone_cafe_minsk  106    2       -5200       44.754717   \n",
        "957                teen_girl  147    3       -4800       85.833333   \n",
        "1027            unknown11291   48    1       -4700       29.000000   \n",
        "\n",
        "      difference  count  \n",
        "592          647     43  \n",
        "987          111      3  \n",
        "398          104     53  \n",
        "957          144      6  \n",
        "1027          47     15  "
       ]
      }
     ],
     "prompt_number": 17
    },
    {
     "cell_type": "heading",
     "level": 2,
     "metadata": {},
     "source": [
      "6. Conclusion"
     ]
    },
    {
     "cell_type": "markdown",
     "metadata": {},
     "source": [
      "Generally, those with high initial followers have a lower percent change and vice versa. In the three extreme examples, the bottom right streamers appear to be the fastest risers as they both possess high differences and percent changes. Those on the top right are established streamers; however, they are still growing faster than most other streamers. The streamers on the bottem left show promise, but still lack big numbers to be taken seriously. eloise_ailv is clearly the fastest rising streamer as she is not only in the bottom right group, but is the only actual streamer there. This is not surprising as she recently joined one of the most popular Hearthstone teams."
     ]
    }
   ],
   "metadata": {}
  }
 ]
}