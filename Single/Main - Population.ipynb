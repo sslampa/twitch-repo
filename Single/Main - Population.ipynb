{
 "metadata": {
  "name": "",
  "signature": "sha256:93e97171cb8f5b3a0f23a6c3eb6bb026fae4fd6ea95362116032a9b51f93af72"
 },
 "nbformat": 3,
 "nbformat_minor": 0,
 "worksheets": [
  {
   "cells": [
    {
     "cell_type": "heading",
     "level": 1,
     "metadata": {},
     "source": [
      "Cumulative Hearthstone Streaming Data On Twitch.tv"
     ]
    },
    {
     "cell_type": "markdown",
     "metadata": {},
     "source": [
      "This section contains all the data collected throughout the month of June. The data collected includes the amount of followers, the current viewer count, name of streamer, and the time data was colleceted. This total data will serve as a reference for all other sections within the notebook. "
     ]
    },
    {
     "cell_type": "code",
     "collapsed": false,
     "input": [
      "cd C:\\tmp"
     ],
     "language": "python",
     "metadata": {},
     "outputs": [
      {
       "output_type": "stream",
       "stream": "stdout",
       "text": [
        "C:\\tmp\n"
       ]
      }
     ],
     "prompt_number": 37
    },
    {
     "cell_type": "code",
     "collapsed": false,
     "input": [
      "import pandas as pd\n",
      "import datetime\n",
      "import time\n",
      "import numpy as np\n",
      "import matplotlib as mpl\n",
      "import matplotlib.pyplot as plt\n",
      "import seaborn as sns\n",
      "import create_list\n",
      "%matplotlib inline"
     ],
     "language": "python",
     "metadata": {},
     "outputs": [],
     "prompt_number": 38
    },
    {
     "cell_type": "code",
     "collapsed": false,
     "input": [
      "# Reads the .csv data\n",
      "df = pd.read_csv(\"june_final.csv\", header=None, names=['id', 'name', 'followers', 'current_viewers', 'date_time'])"
     ],
     "language": "python",
     "metadata": {},
     "outputs": [],
     "prompt_number": 39
    },
    {
     "cell_type": "code",
     "collapsed": false,
     "input": [
      "# Extracts individual pieces to be used later for the new datetime\n",
      "df['years'] = pd.DatetimeIndex(df['date_time']).year\n",
      "df['months'] = pd.DatetimeIndex(df['date_time']).month\n",
      "df['days'] = pd.DatetimeIndex(df['date_time']).day\n",
      "df['hours'] = pd.DatetimeIndex(df['date_time']).hour\n",
      "df['minutes'] = pd.DatetimeIndex(df['date_time']).minute"
     ],
     "language": "python",
     "metadata": {},
     "outputs": [],
     "prompt_number": 40
    },
    {
     "cell_type": "heading",
     "level": 2,
     "metadata": {},
     "source": [
      "1. Check For Consistent Data Distribution"
     ]
    },
    {
     "cell_type": "markdown",
     "metadata": {},
     "source": [
      "Checking to see that there is a consistent distribution of the data; in the image below we can see that total streamer count hourly accumulated over the month of June does not fluctuate significantly. Data was collected every ten minutes starting on May 30, 2015 22:40 PDT until June 30, 2015 22:30 PDT. The decision for ten minute intervals was based on how slowly the viewer numbers changed. Also, data was lost due to server-side failings not allowing for every second updates. Each period collected the top twenty-five streamers based on viewer count. Because of the failings at certain intervals, we were unable to generate a uniform streamer count per day. This is why there are slight fluctuations. Each hour represents the respective hour of the day. For example, 10 represents 10:00 AM PDT."
     ]
    },
    {
     "cell_type": "code",
     "collapsed": false,
     "input": [
      "s = df.hist(\"hours\", bins=24, range=(0,23), figsize=(10,8))\n",
      "plt.xlabel('Hours (PDT)')\n",
      "plt.ylabel('Frequency')\n",
      "plt.title('Number Of Periods Streamed')"
     ],
     "language": "python",
     "metadata": {},
     "outputs": [
      {
       "metadata": {},
       "output_type": "pyout",
       "prompt_number": 41,
       "text": [
        "<matplotlib.text.Text at 0x1383d350>"
       ]
      },
      {
       "metadata": {},
       "output_type": "display_data",
       "png": "[encoded data removed]",
       "text": [
        "<matplotlib.figure.Figure at 0x139b7910>"
       ]
      }
     ],
     "prompt_number": 41
    },
    {
     "cell_type": "heading",
     "level": 2,
     "metadata": {},
     "source": [
      "2. Difference Of Current Viewers Between Tournament And Non-Tournament Data At Hourly Streaming Times"
     ]
    },
    {
     "cell_type": "markdown",
     "metadata": {},
     "source": [
      "In this next section we took all the streamers that made the top twenty-five streamer list at any point throughout June. The boxplot shown below shows that the current viewers at the specified hours with the tournament streams have a larger range and higher peaks.\n",
      "\n",
      "Tournament streams generally lead to higher viewer counts, leading to a higher average. The table below illustrates this by showing a larger difference in average; especially between the hours of 10:00 - 18:00 PDT. The differences become much smaller at around 21:00 PDT where it is less likely to see a major tournament."
     ]
    },
    {
     "cell_type": "heading",
     "level": 3,
     "metadata": {},
     "source": [
      "Code To Remove Tournament Data"
     ]
    },
    {
     "cell_type": "code",
     "collapsed": false,
     "input": [
      "# Remove all the tournament data to compare with previous boxplot\n",
      "tournament_list = ['dreamhackhs', 'viagamehs', 'esl_hearthstone', 'tempo_storm', 'wca_america', 'nvidia', 'nvidiafrance',\n",
      "                   'starladder_hs_ru', 'starladder_hs_eu', 'vulcunhs', 'viagamehs_ru', 'onenationofgamers', 'stormstudio_hs_ru', \n",
      "                   'hkesportstv', 'hearthstonefr', 'readyuptv', 'pvplive']\n",
      "\n",
      "# ~ -> not, isin -> in used for lists\n",
      "no_tourn_df = df[~df['name'].isin(tournament_list)]"
     ],
     "language": "python",
     "metadata": {},
     "outputs": [],
     "prompt_number": 42
    },
    {
     "cell_type": "code",
     "collapsed": false,
     "input": [
      "tourn_df = df[df['name'].isin(tournament_list)]"
     ],
     "language": "python",
     "metadata": {},
     "outputs": [],
     "prompt_number": 43
    },
    {
     "cell_type": "heading",
     "level": 3,
     "metadata": {},
     "source": [
      "Box Plot With Tournament Data"
     ]
    },
    {
     "cell_type": "markdown",
     "metadata": {},
     "source": [
      "The boxplots below show the range of values at each specific hour. The inner boxes represent the interquartile range, which contains fifty percent of the dataset. Endpoints of the box are referred to as Q1 (middle value of the first half of the dataset) and Q3 (middle value of the second half of the dataset). Q2, the median of the entire dataset, is the center line in each box. Each line connected to the boxes represent twenty-five percent of the dataset, respectively, and are referred to as the whiskers. The longer each element of the boxplot is, the bigger the difference of range is that section. \n",
      "\n",
      "In the first boxplot, containing the dataset with Tournament streams, we see that the whiskers are much longer than in the second boxplot during prime streaming hours. This shows that the tournament streams carry higher values at the top twenty-five percent of its dataset compared to the non-tournament.  "
     ]
    },
    {
     "cell_type": "code",
     "collapsed": false,
     "input": [
      "ax = sns.boxplot(x='hours', y='current_viewers', data=df, fliersize=0, order=np.arange(0,24))\n",
      "ax.set(ylim=(-100, 4000))\n",
      "plt.ylabel('Number Of Current Viewers')\n",
      "plt.xlabel('Hours (PDT)')"
     ],
     "language": "python",
     "metadata": {},
     "outputs": [
      {
       "metadata": {},
       "output_type": "pyout",
       "prompt_number": 44,
       "text": [
        "<matplotlib.text.Text at 0x13904250>"
       ]
      },
      {
       "metadata": {},
       "output_type": "display_data",
       "png": "[encoded data removed]",
       "text": [
        "<matplotlib.figure.Figure at 0x12583b30>"
       ]
      }
     ],
     "prompt_number": 44
    },
    {
     "cell_type": "heading",
     "level": 3,
     "metadata": {},
     "source": [
      "Box Plot Without Tournament Data"
     ]
    },
    {
     "cell_type": "code",
     "collapsed": false,
     "input": [
      "bx = sns.boxplot(x='hours', y='current_viewers', data=no_tourn_df, fliersize=0, order=np.arange(0,24))\n",
      "bx.set(ylim=(-100, 4000))\n",
      "plt.ylabel('Number Of Current Viewers')\n",
      "plt.xlabel('Hours (PDT)')"
     ],
     "language": "python",
     "metadata": {},
     "outputs": [
      {
       "metadata": {},
       "output_type": "pyout",
       "prompt_number": 45,
       "text": [
        "<matplotlib.text.Text at 0x13a3b090>"
       ]
      },
      {
       "metadata": {},
       "output_type": "display_data",
       "png": "[encoded data removed]",
       "text": [
        "<matplotlib.figure.Figure at 0x1290a170>"
       ]
      }
     ],
     "prompt_number": 45
    },
    {
     "cell_type": "heading",
     "level": 3,
     "metadata": {},
     "source": [
      "Table Comparing Average Viewers Between Tournament And No Tournament Data"
     ]
    },
    {
     "cell_type": "code",
     "collapsed": false,
     "input": [
      "# This shows the mean of the dataset including tournaments\n",
      "mean_streamer_tourn = df.groupby(by=['hours'])['current_viewers'].agg(np.mean)\n",
      "mean_streamer_tourn.sort(ascending=False, inplace=True)\n",
      "mean_streamer_tourn = pd.DataFrame(mean_streamer_tourn).reset_index()"
     ],
     "language": "python",
     "metadata": {},
     "outputs": [],
     "prompt_number": 46
    },
    {
     "cell_type": "code",
     "collapsed": false,
     "input": [
      "# Shows the mean of the dataset without tournaments\n",
      "mean_streamer_none_hr = no_tourn_df.groupby(by=['hours'])['current_viewers'].agg(np.mean)\n",
      "mean_streamer_none_hr.sort(ascending=False, inplace=True)\n",
      "mean_streamer_none_hr = pd.DataFrame(mean_streamer_none_hr).reset_index()"
     ],
     "language": "python",
     "metadata": {},
     "outputs": [],
     "prompt_number": 47
    },
    {
     "cell_type": "code",
     "collapsed": false,
     "input": [
      "# Table showing the mean of the dataset with the tournament channels vs without\n",
      "streamer_mean = pd.merge(mean_streamer_tourn, mean_streamer_none_hr, on='hours')\n",
      "streamer_mean.sort(columns='hours', inplace=True)\n",
      "streamer_mean.columns = ('hours', 'withTournament', 'withoutTournament')"
     ],
     "language": "python",
     "metadata": {},
     "outputs": [],
     "prompt_number": 48
    },
    {
     "cell_type": "code",
     "collapsed": false,
     "input": [
      "def difference(s):\n",
      "    return s['withTournament'] - s['withoutTournament']"
     ],
     "language": "python",
     "metadata": {},
     "outputs": [],
     "prompt_number": 49
    },
    {
     "cell_type": "code",
     "collapsed": false,
     "input": [
      "streamer_mean['difference'] = streamer_mean.apply(difference, axis=1)"
     ],
     "language": "python",
     "metadata": {},
     "outputs": [],
     "prompt_number": 50
    },
    {
     "cell_type": "code",
     "collapsed": false,
     "input": [
      "# The columns withTournament, withoutTournament, and difference show the average viewers segmented by hour.\n",
      "streamer_mean.reset_index(drop=True) "
     ],
     "language": "python",
     "metadata": {},
     "outputs": [
      {
       "html": [
        "<div style=\"max-height:1000px;max-width:1500px;overflow:auto;\">\n",
        "<table border=\"1\" class=\"dataframe\">\n",
        "  <thead>\n",
        "    <tr style=\"text-align: right;\">\n",
        "      <th></th>\n",
        "      <th>hours</th>\n",
        "      <th>withTournament</th>\n",
        "      <th>withoutTournament</th>\n",
        "      <th>difference</th>\n",
        "    </tr>\n",
        "  </thead>\n",
        "  <tbody>\n",
        "    <tr>\n",
        "      <th>0</th>\n",
        "      <td>0</td>\n",
        "      <td>1195.915636</td>\n",
        "      <td>1155.358417</td>\n",
        "      <td>40.557219</td>\n",
        "    </tr>\n",
        "    <tr>\n",
        "      <th>1</th>\n",
        "      <td>1</td>\n",
        "      <td>1128.483657</td>\n",
        "      <td>1070.227273</td>\n",
        "      <td>58.256384</td>\n",
        "    </tr>\n",
        "    <tr>\n",
        "      <th>2</th>\n",
        "      <td>2</td>\n",
        "      <td>979.806627</td>\n",
        "      <td>847.023154</td>\n",
        "      <td>132.783473</td>\n",
        "    </tr>\n",
        "    <tr>\n",
        "      <th>3</th>\n",
        "      <td>3</td>\n",
        "      <td>1143.189767</td>\n",
        "      <td>949.556029</td>\n",
        "      <td>193.633738</td>\n",
        "    </tr>\n",
        "    <tr>\n",
        "      <th>4</th>\n",
        "      <td>4</td>\n",
        "      <td>1360.642857</td>\n",
        "      <td>1141.536217</td>\n",
        "      <td>219.106640</td>\n",
        "    </tr>\n",
        "    <tr>\n",
        "      <th>5</th>\n",
        "      <td>5</td>\n",
        "      <td>1468.886708</td>\n",
        "      <td>1228.092558</td>\n",
        "      <td>240.794150</td>\n",
        "    </tr>\n",
        "    <tr>\n",
        "      <th>6</th>\n",
        "      <td>6</td>\n",
        "      <td>1704.873095</td>\n",
        "      <td>1499.790976</td>\n",
        "      <td>205.082119</td>\n",
        "    </tr>\n",
        "    <tr>\n",
        "      <th>7</th>\n",
        "      <td>7</td>\n",
        "      <td>1945.114182</td>\n",
        "      <td>1753.298268</td>\n",
        "      <td>191.815914</td>\n",
        "    </tr>\n",
        "    <tr>\n",
        "      <th>8</th>\n",
        "      <td>8</td>\n",
        "      <td>2122.034217</td>\n",
        "      <td>1908.880928</td>\n",
        "      <td>213.153289</td>\n",
        "    </tr>\n",
        "    <tr>\n",
        "      <th>9</th>\n",
        "      <td>9</td>\n",
        "      <td>2148.573836</td>\n",
        "      <td>1933.758179</td>\n",
        "      <td>214.815658</td>\n",
        "    </tr>\n",
        "    <tr>\n",
        "      <th>10</th>\n",
        "      <td>10</td>\n",
        "      <td>2146.965605</td>\n",
        "      <td>1888.814444</td>\n",
        "      <td>258.151161</td>\n",
        "    </tr>\n",
        "    <tr>\n",
        "      <th>11</th>\n",
        "      <td>11</td>\n",
        "      <td>2207.114783</td>\n",
        "      <td>1765.159171</td>\n",
        "      <td>441.955611</td>\n",
        "    </tr>\n",
        "    <tr>\n",
        "      <th>12</th>\n",
        "      <td>12</td>\n",
        "      <td>2267.345432</td>\n",
        "      <td>1698.520000</td>\n",
        "      <td>568.825432</td>\n",
        "    </tr>\n",
        "    <tr>\n",
        "      <th>13</th>\n",
        "      <td>13</td>\n",
        "      <td>2250.895422</td>\n",
        "      <td>1818.843523</td>\n",
        "      <td>432.051898</td>\n",
        "    </tr>\n",
        "    <tr>\n",
        "      <th>14</th>\n",
        "      <td>14</td>\n",
        "      <td>2101.728727</td>\n",
        "      <td>1696.374579</td>\n",
        "      <td>405.354148</td>\n",
        "    </tr>\n",
        "    <tr>\n",
        "      <th>15</th>\n",
        "      <td>15</td>\n",
        "      <td>1921.576000</td>\n",
        "      <td>1530.884293</td>\n",
        "      <td>390.691707</td>\n",
        "    </tr>\n",
        "    <tr>\n",
        "      <th>16</th>\n",
        "      <td>16</td>\n",
        "      <td>1773.012739</td>\n",
        "      <td>1387.255054</td>\n",
        "      <td>385.757685</td>\n",
        "    </tr>\n",
        "    <tr>\n",
        "      <th>17</th>\n",
        "      <td>17</td>\n",
        "      <td>1557.514217</td>\n",
        "      <td>1261.043410</td>\n",
        "      <td>296.470806</td>\n",
        "    </tr>\n",
        "    <tr>\n",
        "      <th>18</th>\n",
        "      <td>18</td>\n",
        "      <td>1243.901905</td>\n",
        "      <td>966.188104</td>\n",
        "      <td>277.713801</td>\n",
        "    </tr>\n",
        "    <tr>\n",
        "      <th>19</th>\n",
        "      <td>19</td>\n",
        "      <td>1142.715636</td>\n",
        "      <td>962.717302</td>\n",
        "      <td>179.998335</td>\n",
        "    </tr>\n",
        "    <tr>\n",
        "      <th>20</th>\n",
        "      <td>20</td>\n",
        "      <td>1133.508500</td>\n",
        "      <td>1018.842789</td>\n",
        "      <td>114.665711</td>\n",
        "    </tr>\n",
        "    <tr>\n",
        "      <th>21</th>\n",
        "      <td>21</td>\n",
        "      <td>1124.405350</td>\n",
        "      <td>1080.739201</td>\n",
        "      <td>43.666149</td>\n",
        "    </tr>\n",
        "    <tr>\n",
        "      <th>22</th>\n",
        "      <td>22</td>\n",
        "      <td>1130.197073</td>\n",
        "      <td>1105.253866</td>\n",
        "      <td>24.943207</td>\n",
        "    </tr>\n",
        "    <tr>\n",
        "      <th>23</th>\n",
        "      <td>23</td>\n",
        "      <td>1156.423210</td>\n",
        "      <td>1122.033943</td>\n",
        "      <td>34.389267</td>\n",
        "    </tr>\n",
        "  </tbody>\n",
        "</table>\n",
        "</div>"
       ],
       "metadata": {},
       "output_type": "pyout",
       "prompt_number": 51,
       "text": [
        "    hours  withTournament  withoutTournament  difference\n",
        "0       0     1195.915636        1155.358417   40.557219\n",
        "1       1     1128.483657        1070.227273   58.256384\n",
        "2       2      979.806627         847.023154  132.783473\n",
        "3       3     1143.189767         949.556029  193.633738\n",
        "4       4     1360.642857        1141.536217  219.106640\n",
        "5       5     1468.886708        1228.092558  240.794150\n",
        "6       6     1704.873095        1499.790976  205.082119\n",
        "7       7     1945.114182        1753.298268  191.815914\n",
        "8       8     2122.034217        1908.880928  213.153289\n",
        "9       9     2148.573836        1933.758179  214.815658\n",
        "10     10     2146.965605        1888.814444  258.151161\n",
        "11     11     2207.114783        1765.159171  441.955611\n",
        "12     12     2267.345432        1698.520000  568.825432\n",
        "13     13     2250.895422        1818.843523  432.051898\n",
        "14     14     2101.728727        1696.374579  405.354148\n",
        "15     15     1921.576000        1530.884293  390.691707\n",
        "16     16     1773.012739        1387.255054  385.757685\n",
        "17     17     1557.514217        1261.043410  296.470806\n",
        "18     18     1243.901905         966.188104  277.713801\n",
        "19     19     1142.715636         962.717302  179.998335\n",
        "20     20     1133.508500        1018.842789  114.665711\n",
        "21     21     1124.405350        1080.739201   43.666149\n",
        "22     22     1130.197073        1105.253866   24.943207\n",
        "23     23     1156.423210        1122.033943   34.389267"
       ]
      }
     ],
     "prompt_number": 51
    },
    {
     "cell_type": "heading",
     "level": 3,
     "metadata": {},
     "source": [
      "Barplot Illustrating Difference Of Mean Viewers"
     ]
    },
    {
     "cell_type": "markdown",
     "metadata": {},
     "source": [
      "This barplot shows a graphical representation of the above table. Between 10:00 - 18:00 PDT, the largest difference is shown. Alternatively, later on in the night (21:00 - 1:00 PDT) the smallest difference is shown."
     ]
    },
    {
     "cell_type": "code",
     "collapsed": false,
     "input": [
      "ax2 = streamer_mean.plot(x='hours', y='withTournament', kind='bar', color='red', figsize=(10,8))\n",
      "streamer_mean.plot(x='hours', y='withoutTournament', kind='bar', ax=ax2, alpha=.75)\n",
      "ax2.legend(['With Tournament', 'Without Tournament'])\n",
      "plt.xlabel('Hours (PDT)')\n",
      "plt.ylabel('Mean Viewers')"
     ],
     "language": "python",
     "metadata": {},
     "outputs": [
      {
       "metadata": {},
       "output_type": "pyout",
       "prompt_number": 52,
       "text": [
        "<matplotlib.text.Text at 0x1523c610>"
       ]
      },
      {
       "metadata": {},
       "output_type": "display_data",
       "png": "[encoded data removed]",
       "text": [
        "<matplotlib.figure.Figure at 0x13e10d30>"
       ]
      }
     ],
     "prompt_number": 52
    },
    {
     "cell_type": "heading",
     "level": 2,
     "metadata": {},
     "source": [
      "3. The Relationship Between Viewer Count And Followers/Number Of Periods Streaming For Tournament And Non-Tournament Streams"
     ]
    },
    {
     "cell_type": "markdown",
     "metadata": {},
     "source": [
      "Here we want to check to see if there is any correlation between the amount of viewers and how long a streamer streams or how many followers they have, respectively. The reason why both tournament and non-tournament are included is to show that tournaments generally have high viewership, but fewer followers and less streaming periods. Data points for tournament streams are red, while non-tournament data points are blue. \n",
      "\n",
      "On the mean_viewers vs count plot we see two red points that do not follow the general tournament stream trend. This is due to them being an independent stream with regards to the tournaments. They stream the tournaments themselves resulting in less viewers. They also rebroadcast those tournaments, resulting in higher number of periods streaming."
     ]
    },
    {
     "cell_type": "heading",
     "level": 3,
     "metadata": {},
     "source": [
      "Without Tournament Subset"
     ]
    },
    {
     "cell_type": "code",
     "collapsed": false,
     "input": [
      "combined_streamer_final = create_list.agg_df(no_tourn_df, by=['name'])"
     ],
     "language": "python",
     "metadata": {},
     "outputs": [],
     "prompt_number": 53
    },
    {
     "cell_type": "heading",
     "level": 3,
     "metadata": {},
     "source": [
      "With Tournaments Subset"
     ]
    },
    {
     "cell_type": "code",
     "collapsed": false,
     "input": [
      "combined_streamer_final_tourn = create_list.agg_df(tourn_df, by=['name'])"
     ],
     "language": "python",
     "metadata": {},
     "outputs": [],
     "prompt_number": 54
    },
    {
     "cell_type": "heading",
     "level": 3,
     "metadata": {},
     "source": [
      "Plots Of Mean Viewers VS Number Of Periods Streaming For Tournaments And Non-Tournament Streams"
     ]
    },
    {
     "cell_type": "code",
     "collapsed": false,
     "input": [
      "ax = combined_streamer_final.plot('count', 'mean_viewers', kind='scatter', figsize=(10,8))\n",
      "combined_streamer_final_tourn.plot('count', 'mean_viewers', kind='scatter', ax=ax, color='red')\n",
      "plt.ylabel('Mean Viewers')\n",
      "plt.xlabel('Number Of Periods Streamed')"
     ],
     "language": "python",
     "metadata": {},
     "outputs": [
      {
       "metadata": {},
       "output_type": "pyout",
       "prompt_number": 55,
       "text": [
        "<matplotlib.text.Text at 0x8454830>"
       ]
      },
      {
       "metadata": {},
       "output_type": "display_data",
       "png": "[encoded data removed]",
       "text": [
        "<matplotlib.figure.Figure at 0x8454b90>"
       ]
      }
     ],
     "prompt_number": 55
    },
    {
     "cell_type": "heading",
     "level": 3,
     "metadata": {},
     "source": [
      "Plots Of Mean Viewers VS Number Of Mean Followers For Tournaments And Non-Tournament Streams"
     ]
    },
    {
     "cell_type": "code",
     "collapsed": false,
     "input": [
      "ab =  combined_streamer_final.plot('mean_followers', 'mean_viewers', kind='scatter', figsize=(10,8))\n",
      "combined_streamer_final_tourn.plot('mean_followers', 'mean_viewers', kind='scatter', ax=ab, color='red')\n",
      "plt.ylabel('Mean Viewers')\n",
      "plt.xlabel('Mean Followers')"
     ],
     "language": "python",
     "metadata": {},
     "outputs": [
      {
       "metadata": {},
       "output_type": "pyout",
       "prompt_number": 56,
       "text": [
        "<matplotlib.text.Text at 0x8454330>"
       ]
      },
      {
       "metadata": {},
       "output_type": "display_data",
       "png": "[encoded data removed]",
       "text": [
        "<matplotlib.figure.Figure at 0x8448530>"
       ]
      }
     ],
     "prompt_number": 56
    }
   ],
   "metadata": {}
  }
 ]
}