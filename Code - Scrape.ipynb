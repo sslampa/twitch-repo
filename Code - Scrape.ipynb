{
 "metadata": {
  "name": "",
  "signature": "sha256:464f2773b7fe36d6285df62f40ab7b524eb0573b0e3c648dcbf26bb8e24ff723"
 },
 "nbformat": 3,
 "nbformat_minor": 0,
 "worksheets": [
  {
   "cells": [
    {
     "cell_type": "code",
     "collapsed": false,
     "input": [
      "import requests\n",
      "import json\n",
      "from __future__ import print_function\n",
      "import mysql.connector\n",
      "import datetime\n",
      "import time"
     ],
     "language": "python",
     "metadata": {},
     "outputs": []
    },
    {
     "cell_type": "code",
     "collapsed": false,
     "input": [
      "config = {\n",
      "  'user': 'StFed',\n",
      "  'password': '***************',\n",
      "  'host': '127.0.0.1',\n",
      "  'database': 'streamer',\n",
      "}"
     ],
     "language": "python",
     "metadata": {},
     "outputs": []
    },
    {
     "cell_type": "code",
     "collapsed": false,
     "input": [
      "cnx = mysql.connector.connect(**config)\n",
      "cursor = cnx.cursor()"
     ],
     "language": "python",
     "metadata": {},
     "outputs": []
    },
    {
     "cell_type": "code",
     "collapsed": false,
     "input": [
      "url1 = \"https://api.twitch.tv/kraken/streams?game=Hearthstone%3A%20Heroes%20of%20Warcraft&type=suggest\"\n",
      "result1 = requests.get(url1)"
     ],
     "language": "python",
     "metadata": {},
     "outputs": []
    },
    {
     "cell_type": "code",
     "collapsed": false,
     "input": [
      "c1 = result1.content"
     ],
     "language": "python",
     "metadata": {},
     "outputs": []
    },
    {
     "cell_type": "code",
     "collapsed": false,
     "input": [
      "add_streamer = (\"INSERT INTO follower\"\n",
      "                \"(id, name, followers, viewers, date_time)\"\n",
      "                \"VALUES (%s, %s, %s, %s, %s)\")"
     ],
     "language": "python",
     "metadata": {},
     "outputs": []
    },
    {
     "cell_type": "code",
     "collapsed": false,
     "input": [
      "loaded_item = json.loads(c1)"
     ],
     "language": "python",
     "metadata": {},
     "outputs": []
    },
    {
     "cell_type": "code",
     "collapsed": false,
     "input": [
      "jsonData = loaded_item[\"streams\"]\n",
      "followers = jsonData[25]['channel']['followers']"
     ],
     "language": "python",
     "metadata": {},
     "outputs": []
    },
    {
     "cell_type": "code",
     "collapsed": false,
     "input": [
      "jsonData = loaded_item[\"streams\"]\n",
      "list_of_names = []\n",
      "list_of_viewers = []\n",
      "for item in jsonData:\n",
      "    id_player = item[\"channel\"][\"_id\"]\n",
      "    name = item[\"channel\"][\"name\"]\n",
      "    followers = item[\"channel\"][\"followers\"]\n",
      "    viewers = item[\"viewers\"]\n",
      "    date = datetime.datetime.now().strftime(\"%Y-%m-%d %H:%M:%S\")\n",
      "    \n",
      "    myList = (id_player, name, followers, viewers, date)\n",
      "    cursor.execute(add_streamer, myList)\n",
      "\n",
      "cnx.commit()"
     ],
     "language": "python",
     "metadata": {},
     "outputs": []
    },
    {
     "cell_type": "code",
     "collapsed": false,
     "input": [
      "cursor.close()\n",
      "cnx.close()"
     ],
     "language": "python",
     "metadata": {},
     "outputs": []
    }
   ],
   "metadata": {}
  }
 ]
}